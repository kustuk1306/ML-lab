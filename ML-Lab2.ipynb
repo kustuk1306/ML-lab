{
 "cells": [
  {
   "cell_type": "code",
   "execution_count": 1,
   "id": "8d69d993",
   "metadata": {},
   "outputs": [],
   "source": [
    "import numpy as np\n",
    "import matplotlib.pyplot as plt # Научная графика\n",
    "%matplotlib inline \n",
    "    # Говорим jupyter'у, чтобы весь графический вывод был в браузере, а не в отдельном окне\n",
    "import pandas as pd             # Таблицы и временные ряды (dataframe, series)\n",
    "import seaborn as sns           # Еще больше красивой графики для визуализации данных\n",
    "import sklearn  \n"
   ]
  },
  {
   "cell_type": "markdown",
   "id": "ca53ee4c",
   "metadata": {},
   "source": [
    "##  **Загружаем Данные**"
   ]
  },
  {
   "cell_type": "code",
   "execution_count": 2,
   "id": "f69a7aec",
   "metadata": {},
   "outputs": [
    {
     "data": {
      "text/html": [
       "<div>\n",
       "<style scoped>\n",
       "    .dataframe tbody tr th:only-of-type {\n",
       "        vertical-align: middle;\n",
       "    }\n",
       "\n",
       "    .dataframe tbody tr th {\n",
       "        vertical-align: top;\n",
       "    }\n",
       "\n",
       "    .dataframe thead th {\n",
       "        text-align: right;\n",
       "    }\n",
       "</style>\n",
       "<table border=\"1\" class=\"dataframe\">\n",
       "  <thead>\n",
       "    <tr style=\"text-align: right;\">\n",
       "      <th></th>\n",
       "      <th>carat</th>\n",
       "      <th>cut</th>\n",
       "      <th>color</th>\n",
       "      <th>clarity</th>\n",
       "      <th>depth</th>\n",
       "      <th>table</th>\n",
       "      <th>price</th>\n",
       "      <th>x</th>\n",
       "      <th>y</th>\n",
       "      <th>z</th>\n",
       "    </tr>\n",
       "  </thead>\n",
       "  <tbody>\n",
       "    <tr>\n",
       "      <th>0</th>\n",
       "      <td>0.23</td>\n",
       "      <td>Ideal</td>\n",
       "      <td>E</td>\n",
       "      <td>SI2</td>\n",
       "      <td>61.5</td>\n",
       "      <td>55.0</td>\n",
       "      <td>326</td>\n",
       "      <td>3.95</td>\n",
       "      <td>3.98</td>\n",
       "      <td>2.43</td>\n",
       "    </tr>\n",
       "    <tr>\n",
       "      <th>1</th>\n",
       "      <td>0.21</td>\n",
       "      <td>Premium</td>\n",
       "      <td>E</td>\n",
       "      <td>SI1</td>\n",
       "      <td>59.8</td>\n",
       "      <td>61.0</td>\n",
       "      <td>326</td>\n",
       "      <td>3.89</td>\n",
       "      <td>3.84</td>\n",
       "      <td>2.31</td>\n",
       "    </tr>\n",
       "    <tr>\n",
       "      <th>2</th>\n",
       "      <td>0.23</td>\n",
       "      <td>Good</td>\n",
       "      <td>E</td>\n",
       "      <td>VS1</td>\n",
       "      <td>56.9</td>\n",
       "      <td>65.0</td>\n",
       "      <td>327</td>\n",
       "      <td>4.05</td>\n",
       "      <td>4.07</td>\n",
       "      <td>2.31</td>\n",
       "    </tr>\n",
       "    <tr>\n",
       "      <th>3</th>\n",
       "      <td>0.29</td>\n",
       "      <td>Premium</td>\n",
       "      <td>I</td>\n",
       "      <td>VS2</td>\n",
       "      <td>62.4</td>\n",
       "      <td>58.0</td>\n",
       "      <td>334</td>\n",
       "      <td>4.20</td>\n",
       "      <td>4.23</td>\n",
       "      <td>2.63</td>\n",
       "    </tr>\n",
       "    <tr>\n",
       "      <th>4</th>\n",
       "      <td>0.31</td>\n",
       "      <td>Good</td>\n",
       "      <td>J</td>\n",
       "      <td>SI2</td>\n",
       "      <td>63.3</td>\n",
       "      <td>58.0</td>\n",
       "      <td>335</td>\n",
       "      <td>4.34</td>\n",
       "      <td>4.35</td>\n",
       "      <td>2.75</td>\n",
       "    </tr>\n",
       "    <tr>\n",
       "      <th>...</th>\n",
       "      <td>...</td>\n",
       "      <td>...</td>\n",
       "      <td>...</td>\n",
       "      <td>...</td>\n",
       "      <td>...</td>\n",
       "      <td>...</td>\n",
       "      <td>...</td>\n",
       "      <td>...</td>\n",
       "      <td>...</td>\n",
       "      <td>...</td>\n",
       "    </tr>\n",
       "    <tr>\n",
       "      <th>53935</th>\n",
       "      <td>0.72</td>\n",
       "      <td>Ideal</td>\n",
       "      <td>D</td>\n",
       "      <td>SI1</td>\n",
       "      <td>60.8</td>\n",
       "      <td>57.0</td>\n",
       "      <td>2757</td>\n",
       "      <td>5.75</td>\n",
       "      <td>5.76</td>\n",
       "      <td>3.50</td>\n",
       "    </tr>\n",
       "    <tr>\n",
       "      <th>53936</th>\n",
       "      <td>0.72</td>\n",
       "      <td>Good</td>\n",
       "      <td>D</td>\n",
       "      <td>SI1</td>\n",
       "      <td>63.1</td>\n",
       "      <td>55.0</td>\n",
       "      <td>2757</td>\n",
       "      <td>5.69</td>\n",
       "      <td>5.75</td>\n",
       "      <td>3.61</td>\n",
       "    </tr>\n",
       "    <tr>\n",
       "      <th>53937</th>\n",
       "      <td>0.70</td>\n",
       "      <td>Very Good</td>\n",
       "      <td>D</td>\n",
       "      <td>SI1</td>\n",
       "      <td>62.8</td>\n",
       "      <td>60.0</td>\n",
       "      <td>2757</td>\n",
       "      <td>5.66</td>\n",
       "      <td>5.68</td>\n",
       "      <td>3.56</td>\n",
       "    </tr>\n",
       "    <tr>\n",
       "      <th>53938</th>\n",
       "      <td>0.86</td>\n",
       "      <td>Premium</td>\n",
       "      <td>H</td>\n",
       "      <td>SI2</td>\n",
       "      <td>61.0</td>\n",
       "      <td>58.0</td>\n",
       "      <td>2757</td>\n",
       "      <td>6.15</td>\n",
       "      <td>6.12</td>\n",
       "      <td>3.74</td>\n",
       "    </tr>\n",
       "    <tr>\n",
       "      <th>53939</th>\n",
       "      <td>0.75</td>\n",
       "      <td>Ideal</td>\n",
       "      <td>D</td>\n",
       "      <td>SI2</td>\n",
       "      <td>62.2</td>\n",
       "      <td>55.0</td>\n",
       "      <td>2757</td>\n",
       "      <td>5.83</td>\n",
       "      <td>5.87</td>\n",
       "      <td>3.64</td>\n",
       "    </tr>\n",
       "  </tbody>\n",
       "</table>\n",
       "<p>53940 rows × 10 columns</p>\n",
       "</div>"
      ],
      "text/plain": [
       "       carat        cut color clarity  depth  table  price     x     y     z\n",
       "0       0.23      Ideal     E     SI2   61.5   55.0    326  3.95  3.98  2.43\n",
       "1       0.21    Premium     E     SI1   59.8   61.0    326  3.89  3.84  2.31\n",
       "2       0.23       Good     E     VS1   56.9   65.0    327  4.05  4.07  2.31\n",
       "3       0.29    Premium     I     VS2   62.4   58.0    334  4.20  4.23  2.63\n",
       "4       0.31       Good     J     SI2   63.3   58.0    335  4.34  4.35  2.75\n",
       "...      ...        ...   ...     ...    ...    ...    ...   ...   ...   ...\n",
       "53935   0.72      Ideal     D     SI1   60.8   57.0   2757  5.75  5.76  3.50\n",
       "53936   0.72       Good     D     SI1   63.1   55.0   2757  5.69  5.75  3.61\n",
       "53937   0.70  Very Good     D     SI1   62.8   60.0   2757  5.66  5.68  3.56\n",
       "53938   0.86    Premium     H     SI2   61.0   58.0   2757  6.15  6.12  3.74\n",
       "53939   0.75      Ideal     D     SI2   62.2   55.0   2757  5.83  5.87  3.64\n",
       "\n",
       "[53940 rows x 10 columns]"
      ]
     },
     "execution_count": 2,
     "metadata": {},
     "output_type": "execute_result"
    }
   ],
   "source": [
    "url = \"https://raw.githubusercontent.com/kustuk1306/ML-lab/main/diamonds_data.csv\"\n",
    "data_raw = pd.read_csv(url)\n",
    "data_new = data_raw.iloc[:, 0:11]\n",
    "data_new"
   ]
  },
  {
   "cell_type": "markdown",
   "id": "7cdabfb8",
   "metadata": {},
   "source": [
    "Мы видим, что столбцы (признаки) имеют имена\n",
    "\n",
    "- carat - Значение карат бриллианта\n",
    "- cut - Тип обрезки бриллианта (определяет блеск)\n",
    "- color - Цвет бриллианта (в диапазоне от I1 - худший, IF - лучший)\n",
    "- clarity - Тип брилианта в каратах (в диапазоне от J - худший, D - лучший) \n",
    "- depth - Значение глубины бриллианта\n",
    "- table - Ширина вершины ромба относительно самого широкого конца\n",
    "- price - Цена бриллианта\n",
    "- x - Длина в мм\n",
    "- y - Ширина в мм\n",
    "- z - Глубина в мм"
   ]
  },
  {
   "cell_type": "markdown",
   "id": "6b2adb7a",
   "metadata": {},
   "source": [
    "Столбцы 'cut' , 'color' и 'clarity' содержат категориальные значения. Пока они имеют тип 'Object'. Заменим тип на специальный, предназначенный для хранения категориальных значений:"
   ]
  },
  {
   "cell_type": "code",
   "execution_count": 3,
   "id": "0d139377",
   "metadata": {},
   "outputs": [],
   "source": [
    "data_new['cut'] = data_new['cut'].astype('category')\n",
    "data_new['color'] = data_new['color'].astype('category')\n",
    "data_new['clarity'] = data_new['clarity'].astype('category')"
   ]
  },
  {
   "cell_type": "code",
   "execution_count": 4,
   "id": "db14ac83",
   "metadata": {},
   "outputs": [
    {
     "data": {
      "text/html": [
       "<div>\n",
       "<style scoped>\n",
       "    .dataframe tbody tr th:only-of-type {\n",
       "        vertical-align: middle;\n",
       "    }\n",
       "\n",
       "    .dataframe tbody tr th {\n",
       "        vertical-align: top;\n",
       "    }\n",
       "\n",
       "    .dataframe thead th {\n",
       "        text-align: right;\n",
       "    }\n",
       "</style>\n",
       "<table border=\"1\" class=\"dataframe\">\n",
       "  <thead>\n",
       "    <tr style=\"text-align: right;\">\n",
       "      <th></th>\n",
       "      <th>cut</th>\n",
       "      <th>color</th>\n",
       "      <th>clarity</th>\n",
       "    </tr>\n",
       "  </thead>\n",
       "  <tbody>\n",
       "    <tr>\n",
       "      <th>0</th>\n",
       "      <td>Ideal</td>\n",
       "      <td>E</td>\n",
       "      <td>SI2</td>\n",
       "    </tr>\n",
       "    <tr>\n",
       "      <th>1</th>\n",
       "      <td>Premium</td>\n",
       "      <td>E</td>\n",
       "      <td>SI1</td>\n",
       "    </tr>\n",
       "    <tr>\n",
       "      <th>2</th>\n",
       "      <td>Good</td>\n",
       "      <td>E</td>\n",
       "      <td>VS1</td>\n",
       "    </tr>\n",
       "    <tr>\n",
       "      <th>3</th>\n",
       "      <td>Premium</td>\n",
       "      <td>I</td>\n",
       "      <td>VS2</td>\n",
       "    </tr>\n",
       "    <tr>\n",
       "      <th>4</th>\n",
       "      <td>Good</td>\n",
       "      <td>J</td>\n",
       "      <td>SI2</td>\n",
       "    </tr>\n",
       "    <tr>\n",
       "      <th>...</th>\n",
       "      <td>...</td>\n",
       "      <td>...</td>\n",
       "      <td>...</td>\n",
       "    </tr>\n",
       "    <tr>\n",
       "      <th>53935</th>\n",
       "      <td>Ideal</td>\n",
       "      <td>D</td>\n",
       "      <td>SI1</td>\n",
       "    </tr>\n",
       "    <tr>\n",
       "      <th>53936</th>\n",
       "      <td>Good</td>\n",
       "      <td>D</td>\n",
       "      <td>SI1</td>\n",
       "    </tr>\n",
       "    <tr>\n",
       "      <th>53937</th>\n",
       "      <td>Very Good</td>\n",
       "      <td>D</td>\n",
       "      <td>SI1</td>\n",
       "    </tr>\n",
       "    <tr>\n",
       "      <th>53938</th>\n",
       "      <td>Premium</td>\n",
       "      <td>H</td>\n",
       "      <td>SI2</td>\n",
       "    </tr>\n",
       "    <tr>\n",
       "      <th>53939</th>\n",
       "      <td>Ideal</td>\n",
       "      <td>D</td>\n",
       "      <td>SI2</td>\n",
       "    </tr>\n",
       "  </tbody>\n",
       "</table>\n",
       "<p>53940 rows × 3 columns</p>\n",
       "</div>"
      ],
      "text/plain": [
       "             cut color clarity\n",
       "0          Ideal     E     SI2\n",
       "1        Premium     E     SI1\n",
       "2           Good     E     VS1\n",
       "3        Premium     I     VS2\n",
       "4           Good     J     SI2\n",
       "...          ...   ...     ...\n",
       "53935      Ideal     D     SI1\n",
       "53936       Good     D     SI1\n",
       "53937  Very Good     D     SI1\n",
       "53938    Premium     H     SI2\n",
       "53939      Ideal     D     SI2\n",
       "\n",
       "[53940 rows x 3 columns]"
      ]
     },
     "execution_count": 4,
     "metadata": {},
     "output_type": "execute_result"
    }
   ],
   "source": [
    "data_new.loc[:, ['cut', 'color', 'clarity']]"
   ]
  },
  {
   "cell_type": "markdown",
   "id": "c28bcf21",
   "metadata": {},
   "source": [
    "## Боремся с выбросами (outliers)"
   ]
  },
  {
   "cell_type": "code",
   "execution_count": 5,
   "id": "783d360e",
   "metadata": {},
   "outputs": [
    {
     "data": {
      "text/plain": [
       "0.005      402.00\n",
       "0.010      429.00\n",
       "0.050      544.00\n",
       "0.100      646.00\n",
       "0.500     2401.00\n",
       "0.900     9821.00\n",
       "0.950    13107.10\n",
       "0.990    17378.22\n",
       "0.995    18093.66\n",
       "Name: price, dtype: float64"
      ]
     },
     "execution_count": 5,
     "metadata": {},
     "output_type": "execute_result"
    }
   ],
   "source": [
    "data_new['price'].quantile([0.005,.01,.05,.1,.5,.9,.95,.99,.995])"
   ]
  },
  {
   "cell_type": "markdown",
   "id": "7b9213c6",
   "metadata": {},
   "source": [
    "Мы видим, например, что $99.9\\%$ всех значений признака 'price' находится в диапазоне от $400$ до $18100$ (это значения квантилей, соответствующих уровням $0.005$ и $0.995$ соотвтетственно)"
   ]
  },
  {
   "cell_type": "code",
   "execution_count": 6,
   "id": "fc61c6f6",
   "metadata": {},
   "outputs": [
    {
     "data": {
      "text/plain": [
       "0.005    0.23\n",
       "0.010    0.24\n",
       "0.050    0.30\n",
       "0.100    0.31\n",
       "0.500    0.70\n",
       "0.900    1.51\n",
       "0.950    1.70\n",
       "0.990    2.18\n",
       "0.995    2.31\n",
       "Name: carat, dtype: float64"
      ]
     },
     "execution_count": 6,
     "metadata": {},
     "output_type": "execute_result"
    }
   ],
   "source": [
    "data_new['carat'].quantile([0.005,.01,.05,.1,.5,.9,.95,.99,.995])"
   ]
  },
  {
   "cell_type": "markdown",
   "id": "1cb86777",
   "metadata": {},
   "source": [
    "Мы видим, например, что $99.9\\%$ всех значений признака 'carat' находится в диапазоне от $0.23$ до $2.31$ (это значения квантилей, соответствующих уровням $0.005$ и $0.995$ соотвтетственно)."
   ]
  },
  {
   "cell_type": "markdown",
   "id": "b207c883",
   "metadata": {},
   "source": [
    "Удалим все строки таблицы, в которых 'price' или 'carat' выходят за пределы квантилей $0.005$, $0.995$."
   ]
  },
  {
   "cell_type": "code",
   "execution_count": 7,
   "id": "49a1b892",
   "metadata": {},
   "outputs": [
    {
     "data": {
      "text/plain": [
       "(53184, 10)"
      ]
     },
     "execution_count": 7,
     "metadata": {},
     "output_type": "execute_result"
    }
   ],
   "source": [
    "rows_to_drop = data_new[\n",
    "    (data_new['price'] < data_new['price'].quantile(0.005)) | (data_new['price'] > data_new['price'].quantile(0.995)) | \n",
    "    (data_new['carat']  < data_new['carat' ].quantile(0.005)) | (data_new['carat']  > data_new['carat' ].quantile(0.995))].index\n",
    "data = data_new.drop(rows_to_drop)\n",
    "data.shape"
   ]
  },
  {
   "cell_type": "markdown",
   "id": "fc266c29",
   "metadata": {},
   "source": [
    "## Визуальная и описательная статистика"
   ]
  },
  {
   "cell_type": "code",
   "execution_count": 8,
   "id": "bf223327",
   "metadata": {},
   "outputs": [
    {
     "data": {
      "text/html": [
       "<div>\n",
       "<style scoped>\n",
       "    .dataframe tbody tr th:only-of-type {\n",
       "        vertical-align: middle;\n",
       "    }\n",
       "\n",
       "    .dataframe tbody tr th {\n",
       "        vertical-align: top;\n",
       "    }\n",
       "\n",
       "    .dataframe thead th {\n",
       "        text-align: right;\n",
       "    }\n",
       "</style>\n",
       "<table border=\"1\" class=\"dataframe\">\n",
       "  <thead>\n",
       "    <tr style=\"text-align: right;\">\n",
       "      <th></th>\n",
       "      <th>carat</th>\n",
       "      <th>depth</th>\n",
       "      <th>table</th>\n",
       "      <th>price</th>\n",
       "      <th>x</th>\n",
       "      <th>y</th>\n",
       "      <th>z</th>\n",
       "    </tr>\n",
       "  </thead>\n",
       "  <tbody>\n",
       "    <tr>\n",
       "      <th>count</th>\n",
       "      <td>53184.000000</td>\n",
       "      <td>53184.000000</td>\n",
       "      <td>53184.000000</td>\n",
       "      <td>53184.000000</td>\n",
       "      <td>53184.000000</td>\n",
       "      <td>53184.000000</td>\n",
       "      <td>53184.000000</td>\n",
       "    </tr>\n",
       "    <tr>\n",
       "      <th>mean</th>\n",
       "      <td>0.786504</td>\n",
       "      <td>61.748451</td>\n",
       "      <td>57.451384</td>\n",
       "      <td>3830.148466</td>\n",
       "      <td>5.713838</td>\n",
       "      <td>5.717375</td>\n",
       "      <td>3.528204</td>\n",
       "    </tr>\n",
       "    <tr>\n",
       "      <th>std</th>\n",
       "      <td>0.451083</td>\n",
       "      <td>1.427690</td>\n",
       "      <td>2.231588</td>\n",
       "      <td>3802.382623</td>\n",
       "      <td>1.092347</td>\n",
       "      <td>1.114457</td>\n",
       "      <td>0.687762</td>\n",
       "    </tr>\n",
       "    <tr>\n",
       "      <th>min</th>\n",
       "      <td>0.230000</td>\n",
       "      <td>43.000000</td>\n",
       "      <td>43.000000</td>\n",
       "      <td>402.000000</td>\n",
       "      <td>0.000000</td>\n",
       "      <td>0.000000</td>\n",
       "      <td>0.000000</td>\n",
       "    </tr>\n",
       "    <tr>\n",
       "      <th>25%</th>\n",
       "      <td>0.400000</td>\n",
       "      <td>61.000000</td>\n",
       "      <td>56.000000</td>\n",
       "      <td>955.000000</td>\n",
       "      <td>4.720000</td>\n",
       "      <td>4.730000</td>\n",
       "      <td>2.910000</td>\n",
       "    </tr>\n",
       "    <tr>\n",
       "      <th>50%</th>\n",
       "      <td>0.700000</td>\n",
       "      <td>61.800000</td>\n",
       "      <td>57.000000</td>\n",
       "      <td>2391.000000</td>\n",
       "      <td>5.690000</td>\n",
       "      <td>5.700000</td>\n",
       "      <td>3.520000</td>\n",
       "    </tr>\n",
       "    <tr>\n",
       "      <th>75%</th>\n",
       "      <td>1.040000</td>\n",
       "      <td>62.500000</td>\n",
       "      <td>59.000000</td>\n",
       "      <td>5241.000000</td>\n",
       "      <td>6.530000</td>\n",
       "      <td>6.520000</td>\n",
       "      <td>4.030000</td>\n",
       "    </tr>\n",
       "    <tr>\n",
       "      <th>max</th>\n",
       "      <td>2.310000</td>\n",
       "      <td>79.000000</td>\n",
       "      <td>95.000000</td>\n",
       "      <td>18077.000000</td>\n",
       "      <td>8.800000</td>\n",
       "      <td>58.900000</td>\n",
       "      <td>31.800000</td>\n",
       "    </tr>\n",
       "  </tbody>\n",
       "</table>\n",
       "</div>"
      ],
      "text/plain": [
       "              carat         depth         table         price             x  \\\n",
       "count  53184.000000  53184.000000  53184.000000  53184.000000  53184.000000   \n",
       "mean       0.786504     61.748451     57.451384   3830.148466      5.713838   \n",
       "std        0.451083      1.427690      2.231588   3802.382623      1.092347   \n",
       "min        0.230000     43.000000     43.000000    402.000000      0.000000   \n",
       "25%        0.400000     61.000000     56.000000    955.000000      4.720000   \n",
       "50%        0.700000     61.800000     57.000000   2391.000000      5.690000   \n",
       "75%        1.040000     62.500000     59.000000   5241.000000      6.530000   \n",
       "max        2.310000     79.000000     95.000000  18077.000000      8.800000   \n",
       "\n",
       "                  y             z  \n",
       "count  53184.000000  53184.000000  \n",
       "mean       5.717375      3.528204  \n",
       "std        1.114457      0.687762  \n",
       "min        0.000000      0.000000  \n",
       "25%        4.730000      2.910000  \n",
       "50%        5.700000      3.520000  \n",
       "75%        6.520000      4.030000  \n",
       "max       58.900000     31.800000  "
      ]
     },
     "execution_count": 8,
     "metadata": {},
     "output_type": "execute_result"
    }
   ],
   "source": [
    "data.describe()"
   ]
  },
  {
   "cell_type": "markdown",
   "id": "f515f605",
   "metadata": {},
   "source": [
    "Проанализиров строку count можно убедиться, что в наших данных нет пропусков."
   ]
  },
  {
   "cell_type": "markdown",
   "id": "7b542026",
   "metadata": {},
   "source": [
    "Получим информацию о категориальных признаках:"
   ]
  },
  {
   "cell_type": "code",
   "execution_count": 9,
   "id": "e904938e",
   "metadata": {},
   "outputs": [
    {
     "data": {
      "text/html": [
       "<div>\n",
       "<style scoped>\n",
       "    .dataframe tbody tr th:only-of-type {\n",
       "        vertical-align: middle;\n",
       "    }\n",
       "\n",
       "    .dataframe tbody tr th {\n",
       "        vertical-align: top;\n",
       "    }\n",
       "\n",
       "    .dataframe thead th {\n",
       "        text-align: right;\n",
       "    }\n",
       "</style>\n",
       "<table border=\"1\" class=\"dataframe\">\n",
       "  <thead>\n",
       "    <tr style=\"text-align: right;\">\n",
       "      <th></th>\n",
       "      <th>cut</th>\n",
       "      <th>color</th>\n",
       "      <th>clarity</th>\n",
       "    </tr>\n",
       "  </thead>\n",
       "  <tbody>\n",
       "    <tr>\n",
       "      <th>count</th>\n",
       "      <td>53184</td>\n",
       "      <td>53184</td>\n",
       "      <td>53184</td>\n",
       "    </tr>\n",
       "    <tr>\n",
       "      <th>unique</th>\n",
       "      <td>5</td>\n",
       "      <td>7</td>\n",
       "      <td>8</td>\n",
       "    </tr>\n",
       "    <tr>\n",
       "      <th>top</th>\n",
       "      <td>Ideal</td>\n",
       "      <td>G</td>\n",
       "      <td>SI1</td>\n",
       "    </tr>\n",
       "    <tr>\n",
       "      <th>freq</th>\n",
       "      <td>21336</td>\n",
       "      <td>11177</td>\n",
       "      <td>12893</td>\n",
       "    </tr>\n",
       "  </tbody>\n",
       "</table>\n",
       "</div>"
      ],
      "text/plain": [
       "          cut  color clarity\n",
       "count   53184  53184   53184\n",
       "unique      5      7       8\n",
       "top     Ideal      G     SI1\n",
       "freq    21336  11177   12893"
      ]
     },
     "execution_count": 9,
     "metadata": {},
     "output_type": "execute_result"
    }
   ],
   "source": [
    "data_describe = data.describe(include=['category'])\n",
    "data_describe"
   ]
  },
  {
   "cell_type": "markdown",
   "id": "637f846a",
   "metadata": {},
   "source": [
    "Можно вычислить матрицу корреляции для количественных признаков:"
   ]
  },
  {
   "cell_type": "code",
   "execution_count": 10,
   "id": "4af1379d",
   "metadata": {},
   "outputs": [
    {
     "data": {
      "text/html": [
       "<div>\n",
       "<style scoped>\n",
       "    .dataframe tbody tr th:only-of-type {\n",
       "        vertical-align: middle;\n",
       "    }\n",
       "\n",
       "    .dataframe tbody tr th {\n",
       "        vertical-align: top;\n",
       "    }\n",
       "\n",
       "    .dataframe thead th {\n",
       "        text-align: right;\n",
       "    }\n",
       "</style>\n",
       "<table border=\"1\" class=\"dataframe\">\n",
       "  <thead>\n",
       "    <tr style=\"text-align: right;\">\n",
       "      <th></th>\n",
       "      <th>carat</th>\n",
       "      <th>depth</th>\n",
       "      <th>table</th>\n",
       "      <th>price</th>\n",
       "      <th>x</th>\n",
       "      <th>y</th>\n",
       "      <th>z</th>\n",
       "    </tr>\n",
       "  </thead>\n",
       "  <tbody>\n",
       "    <tr>\n",
       "      <th>carat</th>\n",
       "      <td>1.000000</td>\n",
       "      <td>0.025708</td>\n",
       "      <td>0.186148</td>\n",
       "      <td>0.921690</td>\n",
       "      <td>0.977600</td>\n",
       "      <td>0.952838</td>\n",
       "      <td>0.955494</td>\n",
       "    </tr>\n",
       "    <tr>\n",
       "      <th>depth</th>\n",
       "      <td>0.025708</td>\n",
       "      <td>1.000000</td>\n",
       "      <td>-0.294586</td>\n",
       "      <td>-0.011206</td>\n",
       "      <td>-0.027578</td>\n",
       "      <td>-0.031530</td>\n",
       "      <td>0.095194</td>\n",
       "    </tr>\n",
       "    <tr>\n",
       "      <th>table</th>\n",
       "      <td>0.186148</td>\n",
       "      <td>-0.294586</td>\n",
       "      <td>1.000000</td>\n",
       "      <td>0.128906</td>\n",
       "      <td>0.198465</td>\n",
       "      <td>0.186267</td>\n",
       "      <td>0.152947</td>\n",
       "    </tr>\n",
       "    <tr>\n",
       "      <th>price</th>\n",
       "      <td>0.921690</td>\n",
       "      <td>-0.011206</td>\n",
       "      <td>0.128906</td>\n",
       "      <td>1.000000</td>\n",
       "      <td>0.882608</td>\n",
       "      <td>0.862390</td>\n",
       "      <td>0.859634</td>\n",
       "    </tr>\n",
       "    <tr>\n",
       "      <th>x</th>\n",
       "      <td>0.977600</td>\n",
       "      <td>-0.027578</td>\n",
       "      <td>0.198465</td>\n",
       "      <td>0.882608</td>\n",
       "      <td>1.000000</td>\n",
       "      <td>0.973053</td>\n",
       "      <td>0.970138</td>\n",
       "    </tr>\n",
       "    <tr>\n",
       "      <th>y</th>\n",
       "      <td>0.952838</td>\n",
       "      <td>-0.031530</td>\n",
       "      <td>0.186267</td>\n",
       "      <td>0.862390</td>\n",
       "      <td>0.973053</td>\n",
       "      <td>1.000000</td>\n",
       "      <td>0.950168</td>\n",
       "    </tr>\n",
       "    <tr>\n",
       "      <th>z</th>\n",
       "      <td>0.955494</td>\n",
       "      <td>0.095194</td>\n",
       "      <td>0.152947</td>\n",
       "      <td>0.859634</td>\n",
       "      <td>0.970138</td>\n",
       "      <td>0.950168</td>\n",
       "      <td>1.000000</td>\n",
       "    </tr>\n",
       "  </tbody>\n",
       "</table>\n",
       "</div>"
      ],
      "text/plain": [
       "          carat     depth     table     price         x         y         z\n",
       "carat  1.000000  0.025708  0.186148  0.921690  0.977600  0.952838  0.955494\n",
       "depth  0.025708  1.000000 -0.294586 -0.011206 -0.027578 -0.031530  0.095194\n",
       "table  0.186148 -0.294586  1.000000  0.128906  0.198465  0.186267  0.152947\n",
       "price  0.921690 -0.011206  0.128906  1.000000  0.882608  0.862390  0.859634\n",
       "x      0.977600 -0.027578  0.198465  0.882608  1.000000  0.973053  0.970138\n",
       "y      0.952838 -0.031530  0.186267  0.862390  0.973053  1.000000  0.950168\n",
       "z      0.955494  0.095194  0.152947  0.859634  0.970138  0.950168  1.000000"
      ]
     },
     "execution_count": 10,
     "metadata": {},
     "output_type": "execute_result"
    }
   ],
   "source": [
    "corr_mat = data.corr()\n",
    "corr_mat"
   ]
  },
  {
   "cell_type": "markdown",
   "id": "37ed9f1c",
   "metadata": {},
   "source": [
    "Удобно использовать визуальный образ этой матрицы. Чем светлее ячейка, тем больше по абсолютной величине коэффициент корреляции:"
   ]
  },
  {
   "cell_type": "code",
   "execution_count": 11,
   "id": "babf9b50",
   "metadata": {},
   "outputs": [
    {
     "data": {
      "image/png": "[encoded data removed]",
      "text/plain": [
       "<Figure size 432x288 with 2 Axes>"
      ]
     },
     "metadata": {
      "needs_background": "light"
     },
     "output_type": "display_data"
    }
   ],
   "source": [
    "sns.heatmap(corr_mat, square=True, cmap='coolwarm')\n",
    "pass"
   ]
  },
  {
   "cell_type": "markdown",
   "id": "07732982",
   "metadata": {},
   "source": [
    "Можно отметить зависимость между глубиной, высотой и шириной, а так же между ценой, числом карат и всеми тремя измерениями. Так же чем больше глубина алмаза, тем меньше будет размер его большей части."
   ]
  },
  {
   "cell_type": "markdown",
   "id": "f843ee8c",
   "metadata": {},
   "source": [
    "Посмотрим сколько раз номинальные переменные принимают то или иное значение"
   ]
  },
  {
   "cell_type": "code",
   "execution_count": 12,
   "id": "4264cdcd",
   "metadata": {
    "scrolled": true
   },
   "outputs": [
    {
     "data": {
      "text/plain": [
       "Ideal        21336\n",
       "Premium      13568\n",
       "Very Good    11892\n",
       "Good          4819\n",
       "Fair          1569\n",
       "Name: cut, dtype: int64"
      ]
     },
     "execution_count": 12,
     "metadata": {},
     "output_type": "execute_result"
    }
   ],
   "source": [
    "data['cut'].value_counts()"
   ]
  },
  {
   "cell_type": "code",
   "execution_count": 13,
   "id": "530475be",
   "metadata": {},
   "outputs": [
    {
     "data": {
      "text/plain": [
       "G    11177\n",
       "E     9725\n",
       "F     9457\n",
       "H     8152\n",
       "D     6735\n",
       "I     5281\n",
       "J     2657\n",
       "Name: color, dtype: int64"
      ]
     },
     "execution_count": 13,
     "metadata": {},
     "output_type": "execute_result"
    }
   ],
   "source": [
    "data['color'].value_counts()"
   ]
  },
  {
   "cell_type": "code",
   "execution_count": 14,
   "id": "5f170abe",
   "metadata": {},
   "outputs": [
    {
     "data": {
      "text/plain": [
       "SI1     12893\n",
       "VS2     12108\n",
       "SI2      8935\n",
       "VS1      8080\n",
       "VVS2     5050\n",
       "VVS1     3647\n",
       "IF       1777\n",
       "I1        694\n",
       "Name: clarity, dtype: int64"
      ]
     },
     "execution_count": 14,
     "metadata": {},
     "output_type": "execute_result"
    }
   ],
   "source": [
    "data['clarity'].value_counts()"
   ]
  },
  {
   "cell_type": "markdown",
   "id": "b039fd64",
   "metadata": {},
   "source": [
    "## Векторизация"
   ]
  },
  {
   "cell_type": "markdown",
   "id": "43c94f61",
   "metadata": {},
   "source": [
    "Нужно что-то сделать с категориальными (номинальными) признаками"
   ]
  },
  {
   "cell_type": "code",
   "execution_count": 15,
   "id": "34781d06",
   "metadata": {},
   "outputs": [
    {
     "name": "stdout",
     "output_type": "stream",
     "text": [
      "[] ['cut', 'color', 'clarity']\n"
     ]
    }
   ],
   "source": [
    "categorical_columns = [c for c in data.columns if data[c].dtype.name == 'category']\n",
    "numerical_columns   = [c for c in data.columns if data[c].dtype.name != 'category']\n",
    "binary_columns    = [c for c in categorical_columns if data_describe[c]['unique'] == 2]\n",
    "nonbinary_columns = [c for c in categorical_columns if data_describe[c]['unique'] > 2]\n",
    "print(binary_columns, nonbinary_columns)"
   ]
  },
  {
   "cell_type": "markdown",
   "id": "925b93ee",
   "metadata": {},
   "source": [
    "К небинарными признакам применим метод векторизации, который заключается в следующем.\n",
    "Например, в нашей задаче признак cut принимает 5 различных значений:"
   ]
  },
  {
   "cell_type": "code",
   "execution_count": 16,
   "id": "6192e194",
   "metadata": {},
   "outputs": [
    {
     "data": {
      "text/plain": [
       "['Very Good', 'Good', 'Ideal', 'Premium', 'Fair']\n",
       "Categories (5, object): ['Very Good', 'Good', 'Ideal', 'Premium', 'Fair']"
      ]
     },
     "execution_count": 16,
     "metadata": {},
     "output_type": "execute_result"
    }
   ],
   "source": [
    "data['cut'].unique()"
   ]
  },
  {
   "cell_type": "markdown",
   "id": "e22ed9c0",
   "metadata": {},
   "source": [
    "Заменим признак cut 5 признаками: cut_Very Good, cut_Good, cut_Ideal, cut_Premium, cut_Fair.\n",
    "\n",
    "- Если признак race принимает значение Very Good, то признак cut_Very Good равен 1, а все остальные равны 0.\n",
    "- Если признак race принимает значение Good, то признак cut_Good равен 1, а все остальные равны 0. и т.д.\n",
    "\n",
    "Такую векторизацию осуществляет в pandas метод get_dummies:"
   ]
  },
  {
   "cell_type": "code",
   "execution_count": 17,
   "id": "6742d34a",
   "metadata": {},
   "outputs": [
    {
     "data": {
      "text/html": [
       "<div>\n",
       "<style scoped>\n",
       "    .dataframe tbody tr th:only-of-type {\n",
       "        vertical-align: middle;\n",
       "    }\n",
       "\n",
       "    .dataframe tbody tr th {\n",
       "        vertical-align: top;\n",
       "    }\n",
       "\n",
       "    .dataframe thead th {\n",
       "        text-align: right;\n",
       "    }\n",
       "</style>\n",
       "<table border=\"1\" class=\"dataframe\">\n",
       "  <thead>\n",
       "    <tr style=\"text-align: right;\">\n",
       "      <th></th>\n",
       "      <th>cut</th>\n",
       "      <th>color</th>\n",
       "      <th>clarity</th>\n",
       "    </tr>\n",
       "  </thead>\n",
       "  <tbody>\n",
       "    <tr>\n",
       "      <th>30</th>\n",
       "      <td>Very Good</td>\n",
       "      <td>F</td>\n",
       "      <td>VS1</td>\n",
       "    </tr>\n",
       "    <tr>\n",
       "      <th>31</th>\n",
       "      <td>Very Good</td>\n",
       "      <td>F</td>\n",
       "      <td>VS1</td>\n",
       "    </tr>\n",
       "    <tr>\n",
       "      <th>32</th>\n",
       "      <td>Very Good</td>\n",
       "      <td>E</td>\n",
       "      <td>VS1</td>\n",
       "    </tr>\n",
       "    <tr>\n",
       "      <th>33</th>\n",
       "      <td>Very Good</td>\n",
       "      <td>E</td>\n",
       "      <td>VS1</td>\n",
       "    </tr>\n",
       "    <tr>\n",
       "      <th>34</th>\n",
       "      <td>Very Good</td>\n",
       "      <td>D</td>\n",
       "      <td>VS1</td>\n",
       "    </tr>\n",
       "    <tr>\n",
       "      <th>...</th>\n",
       "      <td>...</td>\n",
       "      <td>...</td>\n",
       "      <td>...</td>\n",
       "    </tr>\n",
       "    <tr>\n",
       "      <th>53935</th>\n",
       "      <td>Ideal</td>\n",
       "      <td>D</td>\n",
       "      <td>SI1</td>\n",
       "    </tr>\n",
       "    <tr>\n",
       "      <th>53936</th>\n",
       "      <td>Good</td>\n",
       "      <td>D</td>\n",
       "      <td>SI1</td>\n",
       "    </tr>\n",
       "    <tr>\n",
       "      <th>53937</th>\n",
       "      <td>Very Good</td>\n",
       "      <td>D</td>\n",
       "      <td>SI1</td>\n",
       "    </tr>\n",
       "    <tr>\n",
       "      <th>53938</th>\n",
       "      <td>Premium</td>\n",
       "      <td>H</td>\n",
       "      <td>SI2</td>\n",
       "    </tr>\n",
       "    <tr>\n",
       "      <th>53939</th>\n",
       "      <td>Ideal</td>\n",
       "      <td>D</td>\n",
       "      <td>SI2</td>\n",
       "    </tr>\n",
       "  </tbody>\n",
       "</table>\n",
       "<p>53184 rows × 3 columns</p>\n",
       "</div>"
      ],
      "text/plain": [
       "             cut color clarity\n",
       "30     Very Good     F     VS1\n",
       "31     Very Good     F     VS1\n",
       "32     Very Good     E     VS1\n",
       "33     Very Good     E     VS1\n",
       "34     Very Good     D     VS1\n",
       "...          ...   ...     ...\n",
       "53935      Ideal     D     SI1\n",
       "53936       Good     D     SI1\n",
       "53937  Very Good     D     SI1\n",
       "53938    Premium     H     SI2\n",
       "53939      Ideal     D     SI2\n",
       "\n",
       "[53184 rows x 3 columns]"
      ]
     },
     "execution_count": 17,
     "metadata": {},
     "output_type": "execute_result"
    }
   ],
   "source": [
    "data[nonbinary_columns]"
   ]
  },
  {
   "cell_type": "code",
   "execution_count": 18,
   "id": "ad280595",
   "metadata": {},
   "outputs": [
    {
     "name": "stdout",
     "output_type": "stream",
     "text": [
      "Index(['cut_Fair', 'cut_Good', 'cut_Ideal', 'cut_Premium', 'cut_Very Good',\n",
      "       'color_D', 'color_E', 'color_F', 'color_G', 'color_H', 'color_I',\n",
      "       'color_J', 'clarity_I1', 'clarity_IF', 'clarity_SI1', 'clarity_SI2',\n",
      "       'clarity_VS1', 'clarity_VS2', 'clarity_VVS1', 'clarity_VVS2'],\n",
      "      dtype='object')\n"
     ]
    }
   ],
   "source": [
    "data_nonbinary = pd.get_dummies(data[nonbinary_columns])\n",
    "print(data_nonbinary.columns)"
   ]
  },
  {
   "cell_type": "code",
   "execution_count": 19,
   "id": "1904720d",
   "metadata": {},
   "outputs": [
    {
     "data": {
      "text/plain": [
       "20"
      ]
     },
     "execution_count": 19,
     "metadata": {},
     "output_type": "execute_result"
    }
   ],
   "source": [
    "len(data_nonbinary.columns)"
   ]
  },
  {
   "cell_type": "markdown",
   "id": "cd1392f2",
   "metadata": {},
   "source": [
    "## Нормализация качественных признаков"
   ]
  },
  {
   "cell_type": "markdown",
   "id": "78abbef9",
   "metadata": {},
   "source": [
    "Многие алгоритмы машинного обучения чувствительны к масштабированию данных. К таким алгоритмам, например, относится метод ближайших соседей, машина опорных векторов и др.\n",
    "\n",
    "В этом случае количественные признаки полезно нормализовать. Это можно делать разными способами. Например, каждый количественный признак приведем к нулевому среднему и единичному среднеквадратичному отклонению:"
   ]
  },
  {
   "cell_type": "code",
   "execution_count": 20,
   "id": "78821fa4",
   "metadata": {},
   "outputs": [
    {
     "data": {
      "text/html": [
       "<div>\n",
       "<style scoped>\n",
       "    .dataframe tbody tr th:only-of-type {\n",
       "        vertical-align: middle;\n",
       "    }\n",
       "\n",
       "    .dataframe tbody tr th {\n",
       "        vertical-align: top;\n",
       "    }\n",
       "\n",
       "    .dataframe thead th {\n",
       "        text-align: right;\n",
       "    }\n",
       "</style>\n",
       "<table border=\"1\" class=\"dataframe\">\n",
       "  <thead>\n",
       "    <tr style=\"text-align: right;\">\n",
       "      <th></th>\n",
       "      <th>carat</th>\n",
       "      <th>depth</th>\n",
       "      <th>table</th>\n",
       "      <th>price</th>\n",
       "      <th>x</th>\n",
       "      <th>y</th>\n",
       "      <th>z</th>\n",
       "    </tr>\n",
       "  </thead>\n",
       "  <tbody>\n",
       "    <tr>\n",
       "      <th>count</th>\n",
       "      <td>53184.000000</td>\n",
       "      <td>53184.000000</td>\n",
       "      <td>53184.000000</td>\n",
       "      <td>53184.000000</td>\n",
       "      <td>53184.000000</td>\n",
       "      <td>53184.000000</td>\n",
       "      <td>53184.000000</td>\n",
       "    </tr>\n",
       "    <tr>\n",
       "      <th>mean</th>\n",
       "      <td>0.786504</td>\n",
       "      <td>61.748451</td>\n",
       "      <td>57.451384</td>\n",
       "      <td>3830.148466</td>\n",
       "      <td>5.713838</td>\n",
       "      <td>5.717375</td>\n",
       "      <td>3.528204</td>\n",
       "    </tr>\n",
       "    <tr>\n",
       "      <th>std</th>\n",
       "      <td>0.451083</td>\n",
       "      <td>1.427690</td>\n",
       "      <td>2.231588</td>\n",
       "      <td>3802.382623</td>\n",
       "      <td>1.092347</td>\n",
       "      <td>1.114457</td>\n",
       "      <td>0.687762</td>\n",
       "    </tr>\n",
       "    <tr>\n",
       "      <th>min</th>\n",
       "      <td>0.230000</td>\n",
       "      <td>43.000000</td>\n",
       "      <td>43.000000</td>\n",
       "      <td>402.000000</td>\n",
       "      <td>0.000000</td>\n",
       "      <td>0.000000</td>\n",
       "      <td>0.000000</td>\n",
       "    </tr>\n",
       "    <tr>\n",
       "      <th>25%</th>\n",
       "      <td>0.400000</td>\n",
       "      <td>61.000000</td>\n",
       "      <td>56.000000</td>\n",
       "      <td>955.000000</td>\n",
       "      <td>4.720000</td>\n",
       "      <td>4.730000</td>\n",
       "      <td>2.910000</td>\n",
       "    </tr>\n",
       "    <tr>\n",
       "      <th>50%</th>\n",
       "      <td>0.700000</td>\n",
       "      <td>61.800000</td>\n",
       "      <td>57.000000</td>\n",
       "      <td>2391.000000</td>\n",
       "      <td>5.690000</td>\n",
       "      <td>5.700000</td>\n",
       "      <td>3.520000</td>\n",
       "    </tr>\n",
       "    <tr>\n",
       "      <th>75%</th>\n",
       "      <td>1.040000</td>\n",
       "      <td>62.500000</td>\n",
       "      <td>59.000000</td>\n",
       "      <td>5241.000000</td>\n",
       "      <td>6.530000</td>\n",
       "      <td>6.520000</td>\n",
       "      <td>4.030000</td>\n",
       "    </tr>\n",
       "    <tr>\n",
       "      <th>max</th>\n",
       "      <td>2.310000</td>\n",
       "      <td>79.000000</td>\n",
       "      <td>95.000000</td>\n",
       "      <td>18077.000000</td>\n",
       "      <td>8.800000</td>\n",
       "      <td>58.900000</td>\n",
       "      <td>31.800000</td>\n",
       "    </tr>\n",
       "  </tbody>\n",
       "</table>\n",
       "</div>"
      ],
      "text/plain": [
       "              carat         depth         table         price             x  \\\n",
       "count  53184.000000  53184.000000  53184.000000  53184.000000  53184.000000   \n",
       "mean       0.786504     61.748451     57.451384   3830.148466      5.713838   \n",
       "std        0.451083      1.427690      2.231588   3802.382623      1.092347   \n",
       "min        0.230000     43.000000     43.000000    402.000000      0.000000   \n",
       "25%        0.400000     61.000000     56.000000    955.000000      4.720000   \n",
       "50%        0.700000     61.800000     57.000000   2391.000000      5.690000   \n",
       "75%        1.040000     62.500000     59.000000   5241.000000      6.530000   \n",
       "max        2.310000     79.000000     95.000000  18077.000000      8.800000   \n",
       "\n",
       "                  y             z  \n",
       "count  53184.000000  53184.000000  \n",
       "mean       5.717375      3.528204  \n",
       "std        1.114457      0.687762  \n",
       "min        0.000000      0.000000  \n",
       "25%        4.730000      2.910000  \n",
       "50%        5.700000      3.520000  \n",
       "75%        6.520000      4.030000  \n",
       "max       58.900000     31.800000  "
      ]
     },
     "execution_count": 20,
     "metadata": {},
     "output_type": "execute_result"
    }
   ],
   "source": [
    "data_numerical = data[numerical_columns]\n",
    "data_numerical.describe()"
   ]
  },
  {
   "cell_type": "code",
   "execution_count": 21,
   "id": "30d8417c",
   "metadata": {},
   "outputs": [
    {
     "data": {
      "text/html": [
       "<div>\n",
       "<style scoped>\n",
       "    .dataframe tbody tr th:only-of-type {\n",
       "        vertical-align: middle;\n",
       "    }\n",
       "\n",
       "    .dataframe tbody tr th {\n",
       "        vertical-align: top;\n",
       "    }\n",
       "\n",
       "    .dataframe thead th {\n",
       "        text-align: right;\n",
       "    }\n",
       "</style>\n",
       "<table border=\"1\" class=\"dataframe\">\n",
       "  <thead>\n",
       "    <tr style=\"text-align: right;\">\n",
       "      <th></th>\n",
       "      <th>carat</th>\n",
       "      <th>depth</th>\n",
       "      <th>table</th>\n",
       "      <th>price</th>\n",
       "      <th>x</th>\n",
       "      <th>y</th>\n",
       "      <th>z</th>\n",
       "    </tr>\n",
       "  </thead>\n",
       "  <tbody>\n",
       "    <tr>\n",
       "      <th>count</th>\n",
       "      <td>5.318400e+04</td>\n",
       "      <td>5.318400e+04</td>\n",
       "      <td>5.318400e+04</td>\n",
       "      <td>5.318400e+04</td>\n",
       "      <td>5.318400e+04</td>\n",
       "      <td>5.318400e+04</td>\n",
       "      <td>5.318400e+04</td>\n",
       "    </tr>\n",
       "    <tr>\n",
       "      <th>mean</th>\n",
       "      <td>3.962231e-14</td>\n",
       "      <td>4.968372e-13</td>\n",
       "      <td>-2.375612e-14</td>\n",
       "      <td>-1.281307e-15</td>\n",
       "      <td>8.863249e-14</td>\n",
       "      <td>2.172322e-13</td>\n",
       "      <td>-2.143969e-13</td>\n",
       "    </tr>\n",
       "    <tr>\n",
       "      <th>std</th>\n",
       "      <td>1.000000e+00</td>\n",
       "      <td>1.000000e+00</td>\n",
       "      <td>1.000000e+00</td>\n",
       "      <td>1.000000e+00</td>\n",
       "      <td>1.000000e+00</td>\n",
       "      <td>1.000000e+00</td>\n",
       "      <td>1.000000e+00</td>\n",
       "    </tr>\n",
       "    <tr>\n",
       "      <th>min</th>\n",
       "      <td>-1.233708e+00</td>\n",
       "      <td>-1.313202e+01</td>\n",
       "      <td>-6.475829e+00</td>\n",
       "      <td>-9.015790e-01</td>\n",
       "      <td>-5.230790e+00</td>\n",
       "      <td>-5.130189e+00</td>\n",
       "      <td>-5.129982e+00</td>\n",
       "    </tr>\n",
       "    <tr>\n",
       "      <th>25%</th>\n",
       "      <td>-8.568366e-01</td>\n",
       "      <td>-5.242390e-01</td>\n",
       "      <td>-6.503816e-01</td>\n",
       "      <td>-7.561439e-01</td>\n",
       "      <td>-9.098186e-01</td>\n",
       "      <td>-8.859698e-01</td>\n",
       "      <td>-8.988644e-01</td>\n",
       "    </tr>\n",
       "    <tr>\n",
       "      <th>50%</th>\n",
       "      <td>-1.917698e-01</td>\n",
       "      <td>3.610682e-02</td>\n",
       "      <td>-2.022702e-01</td>\n",
       "      <td>-3.784860e-01</td>\n",
       "      <td>-2.182239e-02</td>\n",
       "      <td>-1.559069e-02</td>\n",
       "      <td>-1.192906e-02</td>\n",
       "    </tr>\n",
       "    <tr>\n",
       "      <th>75%</th>\n",
       "      <td>5.619725e-01</td>\n",
       "      <td>5.264094e-01</td>\n",
       "      <td>6.939525e-01</td>\n",
       "      <td>3.710441e-01</td>\n",
       "      <td>7.471640e-01</td>\n",
       "      <td>7.201937e-01</td>\n",
       "      <td>7.296070e-01</td>\n",
       "    </tr>\n",
       "    <tr>\n",
       "      <th>max</th>\n",
       "      <td>3.377422e+00</td>\n",
       "      <td>1.208354e+01</td>\n",
       "      <td>1.682596e+01</td>\n",
       "      <td>3.746822e+00</td>\n",
       "      <td>2.825258e+00</td>\n",
       "      <td>4.772066e+01</td>\n",
       "      <td>4.110697e+01</td>\n",
       "    </tr>\n",
       "  </tbody>\n",
       "</table>\n",
       "</div>"
      ],
      "text/plain": [
       "              carat         depth         table         price             x  \\\n",
       "count  5.318400e+04  5.318400e+04  5.318400e+04  5.318400e+04  5.318400e+04   \n",
       "mean   3.962231e-14  4.968372e-13 -2.375612e-14 -1.281307e-15  8.863249e-14   \n",
       "std    1.000000e+00  1.000000e+00  1.000000e+00  1.000000e+00  1.000000e+00   \n",
       "min   -1.233708e+00 -1.313202e+01 -6.475829e+00 -9.015790e-01 -5.230790e+00   \n",
       "25%   -8.568366e-01 -5.242390e-01 -6.503816e-01 -7.561439e-01 -9.098186e-01   \n",
       "50%   -1.917698e-01  3.610682e-02 -2.022702e-01 -3.784860e-01 -2.182239e-02   \n",
       "75%    5.619725e-01  5.264094e-01  6.939525e-01  3.710441e-01  7.471640e-01   \n",
       "max    3.377422e+00  1.208354e+01  1.682596e+01  3.746822e+00  2.825258e+00   \n",
       "\n",
       "                  y             z  \n",
       "count  5.318400e+04  5.318400e+04  \n",
       "mean   2.172322e-13 -2.143969e-13  \n",
       "std    1.000000e+00  1.000000e+00  \n",
       "min   -5.130189e+00 -5.129982e+00  \n",
       "25%   -8.859698e-01 -8.988644e-01  \n",
       "50%   -1.559069e-02 -1.192906e-02  \n",
       "75%    7.201937e-01  7.296070e-01  \n",
       "max    4.772066e+01  4.110697e+01  "
      ]
     },
     "execution_count": 21,
     "metadata": {},
     "output_type": "execute_result"
    }
   ],
   "source": [
    "data_numerical = (data_numerical - data_numerical.mean(axis = 0))/data_numerical.std(axis = 0)\n",
    "data_numerical.describe()"
   ]
  },
  {
   "cell_type": "markdown",
   "id": "0a5274eb",
   "metadata": {},
   "source": [
    "## Соединяем всё в одну таблицу"
   ]
  },
  {
   "cell_type": "code",
   "execution_count": 22,
   "id": "1d552a92",
   "metadata": {},
   "outputs": [
    {
     "name": "stdout",
     "output_type": "stream",
     "text": [
      "(53184, 27)\n"
     ]
    }
   ],
   "source": [
    "data_normal = pd.concat((data_numerical, data_nonbinary, data[binary_columns]), axis = 1)\n",
    "print(data_normal.shape)"
   ]
  },
  {
   "cell_type": "code",
   "execution_count": 23,
   "id": "25fe81ff",
   "metadata": {},
   "outputs": [
    {
     "data": {
      "text/html": [
       "<div>\n",
       "<style scoped>\n",
       "    .dataframe tbody tr th:only-of-type {\n",
       "        vertical-align: middle;\n",
       "    }\n",
       "\n",
       "    .dataframe tbody tr th {\n",
       "        vertical-align: top;\n",
       "    }\n",
       "\n",
       "    .dataframe thead th {\n",
       "        text-align: right;\n",
       "    }\n",
       "</style>\n",
       "<table border=\"1\" class=\"dataframe\">\n",
       "  <thead>\n",
       "    <tr style=\"text-align: right;\">\n",
       "      <th></th>\n",
       "      <th>carat</th>\n",
       "      <th>depth</th>\n",
       "      <th>table</th>\n",
       "      <th>price</th>\n",
       "      <th>x</th>\n",
       "      <th>y</th>\n",
       "      <th>z</th>\n",
       "      <th>cut_Fair</th>\n",
       "      <th>cut_Good</th>\n",
       "      <th>cut_Ideal</th>\n",
       "      <th>...</th>\n",
       "      <th>color_I</th>\n",
       "      <th>color_J</th>\n",
       "      <th>clarity_I1</th>\n",
       "      <th>clarity_IF</th>\n",
       "      <th>clarity_SI1</th>\n",
       "      <th>clarity_SI2</th>\n",
       "      <th>clarity_VS1</th>\n",
       "      <th>clarity_VS2</th>\n",
       "      <th>clarity_VVS1</th>\n",
       "      <th>clarity_VVS2</th>\n",
       "    </tr>\n",
       "  </thead>\n",
       "  <tbody>\n",
       "    <tr>\n",
       "      <th>count</th>\n",
       "      <td>5.318400e+04</td>\n",
       "      <td>5.318400e+04</td>\n",
       "      <td>5.318400e+04</td>\n",
       "      <td>5.318400e+04</td>\n",
       "      <td>5.318400e+04</td>\n",
       "      <td>5.318400e+04</td>\n",
       "      <td>5.318400e+04</td>\n",
       "      <td>53184.000000</td>\n",
       "      <td>53184.000000</td>\n",
       "      <td>53184.000000</td>\n",
       "      <td>...</td>\n",
       "      <td>53184.000000</td>\n",
       "      <td>53184.000000</td>\n",
       "      <td>53184.000000</td>\n",
       "      <td>53184.000000</td>\n",
       "      <td>53184.000000</td>\n",
       "      <td>53184.000000</td>\n",
       "      <td>53184.000000</td>\n",
       "      <td>53184.000000</td>\n",
       "      <td>53184.000000</td>\n",
       "      <td>53184.000000</td>\n",
       "    </tr>\n",
       "    <tr>\n",
       "      <th>mean</th>\n",
       "      <td>3.962231e-14</td>\n",
       "      <td>4.968372e-13</td>\n",
       "      <td>-2.375612e-14</td>\n",
       "      <td>-1.281307e-15</td>\n",
       "      <td>8.863249e-14</td>\n",
       "      <td>2.172322e-13</td>\n",
       "      <td>-2.143969e-13</td>\n",
       "      <td>0.029501</td>\n",
       "      <td>0.090610</td>\n",
       "      <td>0.401173</td>\n",
       "      <td>...</td>\n",
       "      <td>0.099297</td>\n",
       "      <td>0.049959</td>\n",
       "      <td>0.013049</td>\n",
       "      <td>0.033412</td>\n",
       "      <td>0.242423</td>\n",
       "      <td>0.168002</td>\n",
       "      <td>0.151925</td>\n",
       "      <td>0.227662</td>\n",
       "      <td>0.068573</td>\n",
       "      <td>0.094953</td>\n",
       "    </tr>\n",
       "    <tr>\n",
       "      <th>std</th>\n",
       "      <td>1.000000e+00</td>\n",
       "      <td>1.000000e+00</td>\n",
       "      <td>1.000000e+00</td>\n",
       "      <td>1.000000e+00</td>\n",
       "      <td>1.000000e+00</td>\n",
       "      <td>1.000000e+00</td>\n",
       "      <td>1.000000e+00</td>\n",
       "      <td>0.169209</td>\n",
       "      <td>0.287056</td>\n",
       "      <td>0.490141</td>\n",
       "      <td>...</td>\n",
       "      <td>0.299063</td>\n",
       "      <td>0.217862</td>\n",
       "      <td>0.113486</td>\n",
       "      <td>0.179712</td>\n",
       "      <td>0.428553</td>\n",
       "      <td>0.373871</td>\n",
       "      <td>0.358952</td>\n",
       "      <td>0.419328</td>\n",
       "      <td>0.252729</td>\n",
       "      <td>0.293153</td>\n",
       "    </tr>\n",
       "    <tr>\n",
       "      <th>min</th>\n",
       "      <td>-1.233708e+00</td>\n",
       "      <td>-1.313202e+01</td>\n",
       "      <td>-6.475829e+00</td>\n",
       "      <td>-9.015790e-01</td>\n",
       "      <td>-5.230790e+00</td>\n",
       "      <td>-5.130189e+00</td>\n",
       "      <td>-5.129982e+00</td>\n",
       "      <td>0.000000</td>\n",
       "      <td>0.000000</td>\n",
       "      <td>0.000000</td>\n",
       "      <td>...</td>\n",
       "      <td>0.000000</td>\n",
       "      <td>0.000000</td>\n",
       "      <td>0.000000</td>\n",
       "      <td>0.000000</td>\n",
       "      <td>0.000000</td>\n",
       "      <td>0.000000</td>\n",
       "      <td>0.000000</td>\n",
       "      <td>0.000000</td>\n",
       "      <td>0.000000</td>\n",
       "      <td>0.000000</td>\n",
       "    </tr>\n",
       "    <tr>\n",
       "      <th>25%</th>\n",
       "      <td>-8.568366e-01</td>\n",
       "      <td>-5.242390e-01</td>\n",
       "      <td>-6.503816e-01</td>\n",
       "      <td>-7.561439e-01</td>\n",
       "      <td>-9.098186e-01</td>\n",
       "      <td>-8.859698e-01</td>\n",
       "      <td>-8.988644e-01</td>\n",
       "      <td>0.000000</td>\n",
       "      <td>0.000000</td>\n",
       "      <td>0.000000</td>\n",
       "      <td>...</td>\n",
       "      <td>0.000000</td>\n",
       "      <td>0.000000</td>\n",
       "      <td>0.000000</td>\n",
       "      <td>0.000000</td>\n",
       "      <td>0.000000</td>\n",
       "      <td>0.000000</td>\n",
       "      <td>0.000000</td>\n",
       "      <td>0.000000</td>\n",
       "      <td>0.000000</td>\n",
       "      <td>0.000000</td>\n",
       "    </tr>\n",
       "    <tr>\n",
       "      <th>50%</th>\n",
       "      <td>-1.917698e-01</td>\n",
       "      <td>3.610682e-02</td>\n",
       "      <td>-2.022702e-01</td>\n",
       "      <td>-3.784860e-01</td>\n",
       "      <td>-2.182239e-02</td>\n",
       "      <td>-1.559069e-02</td>\n",
       "      <td>-1.192906e-02</td>\n",
       "      <td>0.000000</td>\n",
       "      <td>0.000000</td>\n",
       "      <td>0.000000</td>\n",
       "      <td>...</td>\n",
       "      <td>0.000000</td>\n",
       "      <td>0.000000</td>\n",
       "      <td>0.000000</td>\n",
       "      <td>0.000000</td>\n",
       "      <td>0.000000</td>\n",
       "      <td>0.000000</td>\n",
       "      <td>0.000000</td>\n",
       "      <td>0.000000</td>\n",
       "      <td>0.000000</td>\n",
       "      <td>0.000000</td>\n",
       "    </tr>\n",
       "    <tr>\n",
       "      <th>75%</th>\n",
       "      <td>5.619725e-01</td>\n",
       "      <td>5.264094e-01</td>\n",
       "      <td>6.939525e-01</td>\n",
       "      <td>3.710441e-01</td>\n",
       "      <td>7.471640e-01</td>\n",
       "      <td>7.201937e-01</td>\n",
       "      <td>7.296070e-01</td>\n",
       "      <td>0.000000</td>\n",
       "      <td>0.000000</td>\n",
       "      <td>1.000000</td>\n",
       "      <td>...</td>\n",
       "      <td>0.000000</td>\n",
       "      <td>0.000000</td>\n",
       "      <td>0.000000</td>\n",
       "      <td>0.000000</td>\n",
       "      <td>0.000000</td>\n",
       "      <td>0.000000</td>\n",
       "      <td>0.000000</td>\n",
       "      <td>0.000000</td>\n",
       "      <td>0.000000</td>\n",
       "      <td>0.000000</td>\n",
       "    </tr>\n",
       "    <tr>\n",
       "      <th>max</th>\n",
       "      <td>3.377422e+00</td>\n",
       "      <td>1.208354e+01</td>\n",
       "      <td>1.682596e+01</td>\n",
       "      <td>3.746822e+00</td>\n",
       "      <td>2.825258e+00</td>\n",
       "      <td>4.772066e+01</td>\n",
       "      <td>4.110697e+01</td>\n",
       "      <td>1.000000</td>\n",
       "      <td>1.000000</td>\n",
       "      <td>1.000000</td>\n",
       "      <td>...</td>\n",
       "      <td>1.000000</td>\n",
       "      <td>1.000000</td>\n",
       "      <td>1.000000</td>\n",
       "      <td>1.000000</td>\n",
       "      <td>1.000000</td>\n",
       "      <td>1.000000</td>\n",
       "      <td>1.000000</td>\n",
       "      <td>1.000000</td>\n",
       "      <td>1.000000</td>\n",
       "      <td>1.000000</td>\n",
       "    </tr>\n",
       "  </tbody>\n",
       "</table>\n",
       "<p>8 rows × 27 columns</p>\n",
       "</div>"
      ],
      "text/plain": [
       "              carat         depth         table         price             x  \\\n",
       "count  5.318400e+04  5.318400e+04  5.318400e+04  5.318400e+04  5.318400e+04   \n",
       "mean   3.962231e-14  4.968372e-13 -2.375612e-14 -1.281307e-15  8.863249e-14   \n",
       "std    1.000000e+00  1.000000e+00  1.000000e+00  1.000000e+00  1.000000e+00   \n",
       "min   -1.233708e+00 -1.313202e+01 -6.475829e+00 -9.015790e-01 -5.230790e+00   \n",
       "25%   -8.568366e-01 -5.242390e-01 -6.503816e-01 -7.561439e-01 -9.098186e-01   \n",
       "50%   -1.917698e-01  3.610682e-02 -2.022702e-01 -3.784860e-01 -2.182239e-02   \n",
       "75%    5.619725e-01  5.264094e-01  6.939525e-01  3.710441e-01  7.471640e-01   \n",
       "max    3.377422e+00  1.208354e+01  1.682596e+01  3.746822e+00  2.825258e+00   \n",
       "\n",
       "                  y             z      cut_Fair      cut_Good     cut_Ideal  \\\n",
       "count  5.318400e+04  5.318400e+04  53184.000000  53184.000000  53184.000000   \n",
       "mean   2.172322e-13 -2.143969e-13      0.029501      0.090610      0.401173   \n",
       "std    1.000000e+00  1.000000e+00      0.169209      0.287056      0.490141   \n",
       "min   -5.130189e+00 -5.129982e+00      0.000000      0.000000      0.000000   \n",
       "25%   -8.859698e-01 -8.988644e-01      0.000000      0.000000      0.000000   \n",
       "50%   -1.559069e-02 -1.192906e-02      0.000000      0.000000      0.000000   \n",
       "75%    7.201937e-01  7.296070e-01      0.000000      0.000000      1.000000   \n",
       "max    4.772066e+01  4.110697e+01      1.000000      1.000000      1.000000   \n",
       "\n",
       "       ...       color_I       color_J    clarity_I1    clarity_IF  \\\n",
       "count  ...  53184.000000  53184.000000  53184.000000  53184.000000   \n",
       "mean   ...      0.099297      0.049959      0.013049      0.033412   \n",
       "std    ...      0.299063      0.217862      0.113486      0.179712   \n",
       "min    ...      0.000000      0.000000      0.000000      0.000000   \n",
       "25%    ...      0.000000      0.000000      0.000000      0.000000   \n",
       "50%    ...      0.000000      0.000000      0.000000      0.000000   \n",
       "75%    ...      0.000000      0.000000      0.000000      0.000000   \n",
       "max    ...      1.000000      1.000000      1.000000      1.000000   \n",
       "\n",
       "        clarity_SI1   clarity_SI2   clarity_VS1   clarity_VS2  clarity_VVS1  \\\n",
       "count  53184.000000  53184.000000  53184.000000  53184.000000  53184.000000   \n",
       "mean       0.242423      0.168002      0.151925      0.227662      0.068573   \n",
       "std        0.428553      0.373871      0.358952      0.419328      0.252729   \n",
       "min        0.000000      0.000000      0.000000      0.000000      0.000000   \n",
       "25%        0.000000      0.000000      0.000000      0.000000      0.000000   \n",
       "50%        0.000000      0.000000      0.000000      0.000000      0.000000   \n",
       "75%        0.000000      0.000000      0.000000      0.000000      0.000000   \n",
       "max        1.000000      1.000000      1.000000      1.000000      1.000000   \n",
       "\n",
       "       clarity_VVS2  \n",
       "count  53184.000000  \n",
       "mean       0.094953  \n",
       "std        0.293153  \n",
       "min        0.000000  \n",
       "25%        0.000000  \n",
       "50%        0.000000  \n",
       "75%        0.000000  \n",
       "max        1.000000  \n",
       "\n",
       "[8 rows x 27 columns]"
      ]
     },
     "execution_count": 23,
     "metadata": {},
     "output_type": "execute_result"
    }
   ],
   "source": [
    "data_normal.describe()"
   ]
  },
  {
   "cell_type": "markdown",
   "id": "5f444de0",
   "metadata": {},
   "source": [
    "## Разбиение на обучающую и тестовую выборки"
   ]
  },
  {
   "cell_type": "code",
   "execution_count": 24,
   "id": "68b6b327",
   "metadata": {},
   "outputs": [
    {
     "data": {
      "text/plain": [
       "Index(['carat', 'depth', 'table', 'price', 'x', 'y', 'z', 'cut_Fair',\n",
       "       'cut_Good', 'cut_Ideal', 'cut_Premium', 'cut_Very Good', 'color_E',\n",
       "       'color_F', 'color_G', 'color_H', 'color_I', 'color_J', 'clarity_I1',\n",
       "       'clarity_IF', 'clarity_SI1', 'clarity_SI2', 'clarity_VS1',\n",
       "       'clarity_VS2', 'clarity_VVS1', 'clarity_VVS2'],\n",
       "      dtype='object')"
      ]
     },
     "execution_count": 24,
     "metadata": {},
     "output_type": "execute_result"
    }
   ],
   "source": [
    "X = data_normal.drop('color_D', axis = 1) # выбрасываем столбец 'color_D'\n",
    "y = data['color']\n",
    "feature_names = X.columns\n",
    "feature_names"
   ]
  },
  {
   "cell_type": "code",
   "execution_count": 25,
   "id": "19c354aa",
   "metadata": {},
   "outputs": [],
   "source": [
    "X = X.to_numpy()"
   ]
  },
  {
   "cell_type": "code",
   "execution_count": 26,
   "id": "f3d68073",
   "metadata": {},
   "outputs": [
    {
     "data": {
      "text/plain": [
       "array([0, 0, 0, ..., 1, 0, 1])"
      ]
     },
     "execution_count": 26,
     "metadata": {},
     "output_type": "execute_result"
    }
   ],
   "source": [
    "Y = np.array(y == \"D\"  , dtype='int')\n",
    "Y"
   ]
  },
  {
   "cell_type": "code",
   "execution_count": 27,
   "id": "1fbcd198",
   "metadata": {},
   "outputs": [
    {
     "name": "stdout",
     "output_type": "stream",
     "text": [
      "(53184, 26)\n",
      "(53184,)\n"
     ]
    }
   ],
   "source": [
    "print(X.shape)\n",
    "print(Y.shape)\n",
    "N, d = X.shape"
   ]
  },
  {
   "cell_type": "code",
   "execution_count": 28,
   "id": "9f5bfa5b",
   "metadata": {},
   "outputs": [
    {
     "data": {
      "text/plain": [
       "numpy.ndarray"
      ]
     },
     "execution_count": 28,
     "metadata": {},
     "output_type": "execute_result"
    }
   ],
   "source": [
    "type(Y)"
   ]
  },
  {
   "cell_type": "code",
   "execution_count": 29,
   "id": "f8f85e32",
   "metadata": {},
   "outputs": [
    {
     "data": {
      "text/plain": [
       "numpy.ndarray"
      ]
     },
     "execution_count": 29,
     "metadata": {},
     "output_type": "execute_result"
    }
   ],
   "source": [
    "type(X)"
   ]
  },
  {
   "cell_type": "code",
   "execution_count": 30,
   "id": "cc65de4b",
   "metadata": {},
   "outputs": [
    {
     "name": "stdout",
     "output_type": "stream",
     "text": [
      "37228 15956\n"
     ]
    }
   ],
   "source": [
    "from sklearn.model_selection import train_test_split\n",
    "X_train, X_test, y_train, y_test = train_test_split(X, Y, test_size = 0.3, random_state = 42)\n",
    "\n",
    "N_train, _ = X_train.shape \n",
    "N_test,  _ = X_test.shape \n",
    "\n",
    "print(N_train, N_test)"
   ]
  },
  {
   "cell_type": "code",
   "execution_count": 31,
   "id": "51e27000",
   "metadata": {},
   "outputs": [],
   "source": [
    "from sklearn.neural_network import MLPClassifier\n",
    "from sklearn.metrics import accuracy_score, confusion_matrix, ConfusionMatrixDisplay\n",
    "from sklearn.model_selection import train_test_split"
   ]
  },
  {
   "cell_type": "code",
   "execution_count": 32,
   "id": "14cc606c",
   "metadata": {
    "scrolled": true
   },
   "outputs": [
    {
     "name": "stdout",
     "output_type": "stream",
     "text": [
      "37228 15956\n"
     ]
    }
   ],
   "source": [
    "X_train, X_test, y_train, y_test = train_test_split(X, y, test_size = 0.3, random_state = 42)\n",
    "N_train, _ = X_train.shape \n",
    "N_test,  _ = X_test.shape \n",
    "print(N_train, N_test)"
   ]
  },
  {
   "cell_type": "markdown",
   "id": "bda82294",
   "metadata": {},
   "source": [
    "## Обучение классификатора:"
   ]
  },
  {
   "cell_type": "code",
   "execution_count": 33,
   "id": "1396ecec",
   "metadata": {},
   "outputs": [
    {
     "data": {
      "text/plain": [
       "MLPClassifier(activation='logistic', random_state=42, solver='lbfgs')"
      ]
     },
     "execution_count": 33,
     "metadata": {},
     "output_type": "execute_result"
    }
   ],
   "source": [
    "mlp_model = MLPClassifier(hidden_layer_sizes = (100,), solver = 'lbfgs', activation = 'logistic', random_state = 42)\n",
    "mlp_model.fit(X_train, y_train)"
   ]
  },
  {
   "cell_type": "markdown",
   "id": "3bc999fb",
   "metadata": {},
   "source": [
    "Проверяем качество классификатора:"
   ]
  },
  {
   "cell_type": "code",
   "execution_count": 34,
   "id": "bd749997",
   "metadata": {},
   "outputs": [],
   "source": [
    "y_train_pred = mlp_model.predict(X_train)\n",
    "y_test_pred = mlp_model.predict(X_test)\n",
    "\n",
    "err_test = np.mean(y_test != y_test_pred)\n",
    "err_train = np.mean(y_train != y_train_pred)\n",
    "train_acc = accuracy_score(y_train, y_train_pred)\n",
    "test_acc = accuracy_score(y_test, y_test_pred)"
   ]
  },
  {
   "cell_type": "code",
   "execution_count": 35,
   "id": "b97aa751",
   "metadata": {
    "scrolled": false
   },
   "outputs": [
    {
     "name": "stdout",
     "output_type": "stream",
     "text": [
      "Train error: 2.6861502095197165e-05, Test error: 6.2672348959639e-05\n",
      "Train accuracy: 100.00% Test accuracy: 99.99%\n"
     ]
    }
   ],
   "source": [
    "print('Train error: {}, Test error: {}'.format(err_train, err_test))\n",
    "print(\"Train accuracy: {:.2f}% Test accuracy: {:.2f}%\".format(train_acc* 100, test_acc * 100))"
   ]
  },
  {
   "cell_type": "markdown",
   "id": "f78457f0",
   "metadata": {},
   "source": [
    "Подбор параметра регуляризации alpha:"
   ]
  },
  {
   "cell_type": "code",
   "execution_count": 38,
   "id": "29e3b55f",
   "metadata": {},
   "outputs": [],
   "source": [
    "alpha_arr = np.logspace(-3, 2, 21)\n",
    "test_err = []\n",
    "train_err = []\n",
    "train_acc = []\n",
    "test_acc = []\n",
    "for alpha in alpha_arr:\n",
    "    mlp_model = MLPClassifier(alpha = alpha, hidden_layer_sizes = (100,),\n",
    "                              solver = 'lbfgs', activation = 'logistic', random_state = 42)\n",
    "    mlp_model.fit(X_train, y_train)\n",
    "\n",
    "    y_train_pred = mlp_model.predict(X_train)\n",
    "    y_test_pred = mlp_model.predict(X_test)\n",
    "    train_err.append(np.mean(y_train != y_train_pred))\n",
    "    test_err.append(np.mean(y_test != y_test_pred))\n",
    "    train_acc.append(accuracy_score(y_train, y_train_pred))\n",
    "    test_acc.append(accuracy_score(y_test, y_test_pred))"
   ]
  },
  {
   "cell_type": "markdown",
   "id": "01444b24",
   "metadata": {},
   "source": [
    "Построение графика зависимости ошибки от alpha:"
   ]
  },
  {
   "cell_type": "code",
   "execution_count": 39,
   "id": "5de0a116",
   "metadata": {
    "scrolled": false
   },
   "outputs": [
    {
     "data": {
      "image/png": "[encoded data removed]",
      "text/plain": [
       "<Figure size 432x288 with 1 Axes>"
      ]
     },
     "metadata": {
      "needs_background": "light"
     },
     "output_type": "display_data"
    }
   ],
   "source": [
    "plt.semilogx(alpha_arr, train_err, 'b-o', label = 'test')\n",
    "plt.semilogx(alpha_arr, test_err, 'r-o', label = 'train')\n",
    "plt.xlim([np.min(alpha_arr), np.max(alpha_arr)])\n",
    "plt.title('Error vs alpha')\n",
    "plt.xlabel('alpha')\n",
    "plt.ylabel('error')\n",
    "plt.legend()\n",
    "pass"
   ]
  },
  {
   "cell_type": "markdown",
   "id": "98170bc6",
   "metadata": {},
   "source": [
    "Построение графика зависимости точности от alpha:"
   ]
  },
  {
   "cell_type": "code",
   "execution_count": 40,
   "id": "98523936",
   "metadata": {},
   "outputs": [
    {
     "data": {
      "image/png": "[encoded data removed]",
      "text/plain": [
       "<Figure size 432x288 with 1 Axes>"
      ]
     },
     "metadata": {
      "needs_background": "light"
     },
     "output_type": "display_data"
    }
   ],
   "source": [
    "plt.semilogx(alpha_arr, train_acc, 'r-o', label='train')\n",
    "plt.semilogx(alpha_arr, test_acc, 'b-o', label='test')\n",
    "plt.xlim([np.min(alpha_arr), np.max(alpha_arr)])\n",
    "plt.title('Accuracy vs alpha')\n",
    "plt.xlabel('alpha')\n",
    "plt.ylabel('accuracy')\n",
    "plt.legend()\n",
    "pass"
   ]
  },
  {
   "cell_type": "markdown",
   "id": "10123e50",
   "metadata": {},
   "source": [
    "Минимальное значение ошибки и оптимальное значение alpha:"
   ]
  },
  {
   "cell_type": "code",
   "execution_count": 41,
   "id": "b6117469",
   "metadata": {},
   "outputs": [
    {
     "name": "stdout",
     "output_type": "stream",
     "text": [
      "Min train error: 0.0, \tMin test error: 0.0\n",
      "Alpha:  0.5623413251903491\n"
     ]
    }
   ],
   "source": [
    "min_train_err = np.min(train_err)\n",
    "min_test_err = np.min(test_err)\n",
    "alpha_opt = alpha_arr[test_err == min_test_err][0]\n",
    "\n",
    "print('Min train error: {}, \\tMin test error: {}'.format(min_train_err, min_test_err))\n",
    "print('Alpha: ', alpha_opt)"
   ]
  },
  {
   "cell_type": "markdown",
   "id": "ca29d829",
   "metadata": {},
   "source": [
    "Классификатор при найденном значении alpha:"
   ]
  },
  {
   "cell_type": "code",
   "execution_count": 42,
   "id": "aa99f1b6",
   "metadata": {},
   "outputs": [
    {
     "name": "stdout",
     "output_type": "stream",
     "text": [
      "Train error: 0.0, Test error: 0.0\n"
     ]
    }
   ],
   "source": [
    "mlp_model = MLPClassifier(alpha = alpha_opt, hidden_layer_sizes = (100,),\n",
    "                          solver = 'lbfgs', activation = 'logistic', random_state = 42)\n",
    "mlp_model.fit(X_train, y_train)\n",
    "\n",
    "y_train_pred = mlp_model.predict(X_train)\n",
    "y_test_pred = mlp_model.predict(X_test)\n",
    "\n",
    "print('Train error: {}, Test error: {}'.format(np.mean(y_train != y_train_pred), np.mean(y_test != y_test_pred)))"
   ]
  },
  {
   "cell_type": "markdown",
   "id": "281d0cba",
   "metadata": {},
   "source": [
    "Матрица рассогласования:"
   ]
  },
  {
   "cell_type": "code",
   "execution_count": 43,
   "id": "9e0fb808",
   "metadata": {},
   "outputs": [
    {
     "name": "stdout",
     "output_type": "stream",
     "text": [
      "[[2021    0    0    0    0    0    0]\n",
      " [   0 2875    0    0    0    0    0]\n",
      " [   0    0 2829    0    0    0    0]\n",
      " [   0    0    0 3352    0    0    0]\n",
      " [   0    0    0    0 2452    0    0]\n",
      " [   0    0    0    0    0 1646    0]\n",
      " [   0    0    0    0    0    0  781]]\n"
     ]
    }
   ],
   "source": [
    "print(confusion_matrix(y_test_pred, y_test))"
   ]
  },
  {
   "cell_type": "code",
   "execution_count": 44,
   "id": "dc2e130f",
   "metadata": {},
   "outputs": [
    {
     "data": {
      "image/png": "[encoded data removed]",
      "text/plain": [
       "<Figure size 432x288 with 2 Axes>"
      ]
     },
     "metadata": {
      "needs_background": "light"
     },
     "output_type": "display_data"
    }
   ],
   "source": [
    "predictions = mlp_model.predict(X_test)\n",
    "cm = confusion_matrix(y_test, predictions, labels=mlp_model.classes_)\n",
    "disp = ConfusionMatrixDisplay(confusion_matrix=cm, display_labels=mlp_model.classes_)\n",
    "disp.plot()\n",
    "plt.show()"
   ]
  },
  {
   "cell_type": "markdown",
   "id": "6523e944",
   "metadata": {},
   "source": [
    "## Подбор числа нейронов в скрытом слое:"
   ]
  },
  {
   "cell_type": "code",
   "execution_count": 45,
   "id": "6217fea8",
   "metadata": {},
   "outputs": [],
   "source": [
    "neurons_arr = np.arange(10, 150, 5)\n",
    "test_err = []\n",
    "train_err = []\n",
    "train_acc = []\n",
    "test_acc = []\n",
    "for neuron in neurons_arr:\n",
    "    mlp_model = MLPClassifier(alpha = alpha_opt, hidden_layer_sizes = (neuron,), \n",
    "                              solver = 'lbfgs', activation = 'logistic', random_state = 42)\n",
    "    mlp_model.fit(X_train, y_train)\n",
    "\n",
    "    y_train_pred = mlp_model.predict(X_train)\n",
    "    y_test_pred = mlp_model.predict(X_test)\n",
    "    train_err.append(np.mean(y_train != y_train_pred))\n",
    "    test_err.append(np.mean(y_test != y_test_pred))\n",
    "    train_acc.append(accuracy_score(y_train, y_train_pred))\n",
    "    test_acc.append(accuracy_score(y_test, y_test_pred))"
   ]
  },
  {
   "cell_type": "markdown",
   "id": "95d3ff4f",
   "metadata": {},
   "source": [
    "Построение графика зависимости ошибки от количества нейронов:"
   ]
  },
  {
   "cell_type": "code",
   "execution_count": 46,
   "id": "3a283a8f",
   "metadata": {},
   "outputs": [
    {
     "data": {
      "image/png": "[encoded data removed]",
      "text/plain": [
       "<Figure size 432x288 with 1 Axes>"
      ]
     },
     "metadata": {
      "needs_background": "light"
     },
     "output_type": "display_data"
    }
   ],
   "source": [
    "plt.semilogx(neurons_arr, train_err, 'b-o', label = 'test')\n",
    "plt.semilogx(neurons_arr, test_err, 'r-o', label = 'train')\n",
    "plt.xlim([np.min(neurons_arr), np.max(neurons_arr)])\n",
    "plt.title('Error vs neuron')\n",
    "plt.xlabel('neuron')\n",
    "plt.ylabel('error')\n",
    "plt.legend()\n",
    "pass"
   ]
  },
  {
   "cell_type": "markdown",
   "id": "17663507",
   "metadata": {},
   "source": [
    "Построение графика зависимости точности от количества нейронов:"
   ]
  },
  {
   "cell_type": "code",
   "execution_count": 47,
   "id": "f0feb824",
   "metadata": {},
   "outputs": [
    {
     "data": {
      "image/png": "[encoded data removed]",
      "text/plain": [
       "<Figure size 432x288 with 1 Axes>"
      ]
     },
     "metadata": {
      "needs_background": "light"
     },
     "output_type": "display_data"
    }
   ],
   "source": [
    "plt.semilogx(neurons_arr, train_acc, 'r-o', label='train')\n",
    "plt.semilogx(neurons_arr, test_acc, 'b-o', label='test')\n",
    "plt.xlim([np.min(neurons_arr), np.max(neurons_arr)])\n",
    "plt.title('Accuracy vs neuron')\n",
    "plt.xlabel('neuron')\n",
    "plt.ylabel('accuracy')\n",
    "plt.legend()\n",
    "pass"
   ]
  },
  {
   "cell_type": "markdown",
   "id": "b49dd6ed",
   "metadata": {},
   "source": [
    "Минимальное значение ошибки и оптимальное число нейронов:"
   ]
  },
  {
   "cell_type": "code",
   "execution_count": 48,
   "id": "cfe7f388",
   "metadata": {},
   "outputs": [
    {
     "name": "stdout",
     "output_type": "stream",
     "text": [
      "Min train error: 0.0, \tMin test error: 0.0\n",
      "Neuron:  100\n"
     ]
    }
   ],
   "source": [
    "min_train_err = np.min(train_err)\n",
    "min_test_err = np.min(test_err)\n",
    "neuron_opt = neurons_arr[test_err == min_test_err][0]\n",
    "\n",
    "print('Min train error: {}, \\tMin test error: {}'.format(min_train_err, min_test_err))\n",
    "print('Neuron: ', neuron_opt)"
   ]
  },
  {
   "cell_type": "markdown",
   "id": "dc100ac0",
   "metadata": {},
   "source": [
    "Классификатор при найденном значении нейронов:"
   ]
  },
  {
   "cell_type": "code",
   "execution_count": 49,
   "id": "c367cd55",
   "metadata": {},
   "outputs": [
    {
     "name": "stdout",
     "output_type": "stream",
     "text": [
      "Train error: 0.0, Test error: 0.0\n"
     ]
    }
   ],
   "source": [
    "mlp_model = MLPClassifier(alpha = alpha_opt, hidden_layer_sizes = (neuron_opt,),\n",
    "                          solver = 'lbfgs', activation = 'logistic', random_state = 42)\n",
    "mlp_model.fit(X_train, y_train)\n",
    "\n",
    "y_train_pred = mlp_model.predict(X_train)\n",
    "y_test_pred = mlp_model.predict(X_test)\n",
    "\n",
    "print('Train error: {}, Test error: {}'.format(np.mean(y_train != y_train_pred), np.mean(y_test != y_test_pred)))"
   ]
  },
  {
   "cell_type": "markdown",
   "id": "748c285e",
   "metadata": {},
   "source": [
    "## Вывод"
   ]
  },
  {
   "cell_type": "markdown",
   "id": "f6c20c06",
   "metadata": {},
   "source": [
    "Исходя из графика зависимости параметра alpha от точности, можем наблюдать переобучение. При alpha равное оптимальному точность и на тестовой и на обучающей выборке совпадает, то есть получаем оптимальное значение для параметра регуляризации. По графику зависимостей количества нейронов от точности видим, что точность зависит от числа нейронов, при оптимальном значении нейронов = 100 точность на тестовой и обучающей выборках совпадает, в остальных случаях значение точности резко уменьшается. При подборе оптимальных значений гиперпараметров удалось достичь максимальной точности."
   ]
  },
  {
   "cell_type": "code",
   "execution_count": null,
   "id": "3ee9be85",
   "metadata": {},
   "outputs": [],
   "source": []
  }
 ],
 "metadata": {
  "kernelspec": {
   "display_name": "Python 3",
   "language": "python",
   "name": "python3"
  },
  "language_info": {
   "codemirror_mode": {
    "name": "ipython",
    "version": 3
   },
   "file_extension": ".py",
   "mimetype": "text/x-python",
   "name": "python",
   "nbconvert_exporter": "python",
   "pygments_lexer": "ipython3",
   "version": "3.8.8"
  }
 },
 "nbformat": 4,
 "nbformat_minor": 5
}
